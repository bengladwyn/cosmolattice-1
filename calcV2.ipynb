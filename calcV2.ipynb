{
 "cells": [
  {
   "cell_type": "code",
   "execution_count": 2,
   "metadata": {},
   "outputs": [
    {
     "name": "stdout",
     "output_type": "stream",
     "text": [
      "q =  351.73400645000004\n",
      "f_star =  2.04230755e+18\n",
      "M =  5.964507523677039e+18\n",
      "LAM4 =  8.64830443875375e+63\n",
      "phi_dot =  -2.167576429375e+31\n",
      "omega_star =  15591607518148.988\n"
     ]
    }
   ],
   "source": [
    "# Match V2\n",
    "import numpy as np\n",
    "\n",
    "M_p = 2.435e18\n",
    "lam = 2.05e-11\n",
    "f_star = 0.83873 * M_p # = phi_end\n",
    "sig = 1e3 * lam\n",
    "M = np.sqrt(6) * M_p\n",
    "q = (sig / lam) * f_star**2/M_p**2 * 1/2\n",
    "LAM4 = 12 * lam * M_p**4\n",
    "phi_dot = -3.65575e-6 * M_p**2\n",
    "omega_star = np.sqrt(LAM4) / M\n",
    "\n",
    "print(\"q = \", q)\n",
    "print(\"f_star = \", f_star)\n",
    "print(\"M = \", M)\n",
    "print(\"LAM4 = \", LAM4)\n",
    "print(\"phi_dot = \", phi_dot)\n",
    "print(\"omega_star = \", omega_star)"
   ]
  },
  {
   "cell_type": "code",
   "execution_count": 2,
   "metadata": {},
   "outputs": [
    {
     "name": "stdout",
     "output_type": "stream",
     "text": [
      "q =  3517.3400645\n",
      "f_star =  2.04230755e+18\n",
      "M =  5.964507523677039e+18\n",
      "LAM4 =  8.64830443875375e+63\n",
      "phi_dot =  -2.167576429375e+31\n",
      "omega_star/initial momenta =  15591607518148.988\n"
     ]
    }
   ],
   "source": [
    "# Match V3 fig3a - This has sigma/lambda = 1e4\n",
    "import numpy as np\n",
    "\n",
    "M_p = 2.435e18\n",
    "lam = 2.05e-11\n",
    "f_star = 0.83873 * M_p # = phi_end\n",
    "sig = 1e4 * lam\n",
    "M = np.sqrt(6) * M_p\n",
    "q = (sig / lam) * f_star**2/M_p**2 * 1/2\n",
    "LAM4 = 12 * lam * M_p**4\n",
    "phi_dot = -3.65575e-6 * M_p**2\n",
    "omega_star = np.sqrt(LAM4) / M\n",
    "\n",
    "print(\"q = \", q)\n",
    "print(\"f_star = \", f_star)\n",
    "print(\"M = \", M)\n",
    "print(\"LAM4 = \", LAM4)\n",
    "print(\"phi_dot = \", phi_dot)\n",
    "print(\"omega_star/initial momenta = \", omega_star)"
   ]
  },
  {
   "cell_type": "code",
   "execution_count": 4,
   "metadata": {},
   "outputs": [
    {
     "name": "stdout",
     "output_type": "stream",
     "text": [
      "q =  0.0\n",
      "f_star =  2.04230755e+18\n",
      "M =  5.964507523677039e+18\n",
      "LAM4 =  8.64830443875375e+63\n",
      "phi_dot =  -2.167576429375e+31\n",
      "omega_star/initial momenta =  15591607518148.988\n"
     ]
    }
   ],
   "source": [
    "# Trivial Case - This has sigma/lambda = 1e4\n",
    "import numpy as np\n",
    "\n",
    "M_p = 2.435e18\n",
    "lam = 2.05e-11\n",
    "f_star = 0.83873 * M_p # = phi_end\n",
    "sig = 0\n",
    "M = np.sqrt(6) * M_p\n",
    "q = (sig / lam) * f_star**2/M_p**2 * 1/2\n",
    "LAM4 = 12 * lam * M_p**4\n",
    "phi_dot = -3.65575e-6 * M_p**2\n",
    "omega_star = np.sqrt(LAM4) / M\n",
    "\n",
    "print(\"q = \", q)\n",
    "print(\"f_star = \", f_star)\n",
    "print(\"M = \", M)\n",
    "print(\"LAM4 = \", LAM4)\n",
    "print(\"phi_dot = \", phi_dot)\n",
    "print(\"omega_star/initial momenta = \", omega_star)"
   ]
  }
 ],
 "metadata": {
  "kernelspec": {
   "display_name": "venv",
   "language": "python",
   "name": "python3"
  },
  "language_info": {
   "codemirror_mode": {
    "name": "ipython",
    "version": 3
   },
   "file_extension": ".py",
   "mimetype": "text/x-python",
   "name": "python",
   "nbconvert_exporter": "python",
   "pygments_lexer": "ipython3",
   "version": "3.9.21"
  }
 },
 "nbformat": 4,
 "nbformat_minor": 2
}
